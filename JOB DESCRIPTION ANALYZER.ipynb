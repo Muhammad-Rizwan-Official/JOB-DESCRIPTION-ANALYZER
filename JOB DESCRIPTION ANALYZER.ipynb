{
 "cells": [
  {
   "cell_type": "code",
   "execution_count": 1,
   "id": "456fed7d",
   "metadata": {
    "scrolled": true
   },
   "outputs": [
    {
     "name": "stderr",
     "output_type": "stream",
     "text": [
      "C:\\Users\\HP\\anaconda3\\lib\\site-packages\\scipy\\__init__.py:155: UserWarning: A NumPy version >=1.18.5 and <1.25.0 is required for this version of SciPy (detected version 1.26.4\n",
      "  warnings.warn(f\"A NumPy version >={np_minversion} and <{np_maxversion}\"\n"
     ]
    },
    {
     "name": "stdout",
     "output_type": "stream",
     "text": [
      "WARNING:tensorflow:From C:\\Users\\HP\\anaconda3\\lib\\site-packages\\keras\\src\\losses.py:2976: The name tf.losses.sparse_softmax_cross_entropy is deprecated. Please use tf.compat.v1.losses.sparse_softmax_cross_entropy instead.\n",
      "\n"
     ]
    }
   ],
   "source": [
    "import numpy as np\n",
    "import pandas as pd\n",
    "import tensorflow as tf\n",
    "from transformers import T5Tokenizer, TFT5ForConditionalGeneration\n",
    "from tensorflow.keras.optimizers import Adam\n",
    "from tensorflow.keras.losses import SparseCategoricalCrossentropy"
   ]
  },
  {
   "cell_type": "code",
   "execution_count": 3,
   "id": "37a6dd93",
   "metadata": {},
   "outputs": [
    {
     "data": {
      "text/html": [
       "<div>\n",
       "<style scoped>\n",
       "    .dataframe tbody tr th:only-of-type {\n",
       "        vertical-align: middle;\n",
       "    }\n",
       "\n",
       "    .dataframe tbody tr th {\n",
       "        vertical-align: top;\n",
       "    }\n",
       "\n",
       "    .dataframe thead th {\n",
       "        text-align: right;\n",
       "    }\n",
       "</style>\n",
       "<table border=\"1\" class=\"dataframe\">\n",
       "  <thead>\n",
       "    <tr style=\"text-align: right;\">\n",
       "      <th></th>\n",
       "      <th>Job Title</th>\n",
       "      <th>Job Description</th>\n",
       "      <th>skills</th>\n",
       "      <th>Responsibilities</th>\n",
       "    </tr>\n",
       "  </thead>\n",
       "  <tbody>\n",
       "    <tr>\n",
       "      <th>0</th>\n",
       "      <td>Digital Marketing Specialist</td>\n",
       "      <td>Social Media Managers oversee an organizations...</td>\n",
       "      <td>Social media platforms (e.g., Facebook, Twitte...</td>\n",
       "      <td>Manage and grow social media accounts, create ...</td>\n",
       "    </tr>\n",
       "    <tr>\n",
       "      <th>1</th>\n",
       "      <td>Web Developer</td>\n",
       "      <td>Frontend Web Developers design and implement u...</td>\n",
       "      <td>HTML, CSS, JavaScript Frontend frameworks (e.g...</td>\n",
       "      <td>Design and code user interfaces for websites, ...</td>\n",
       "    </tr>\n",
       "    <tr>\n",
       "      <th>2</th>\n",
       "      <td>Operations Manager</td>\n",
       "      <td>Quality Control Managers establish and enforce...</td>\n",
       "      <td>Quality control processes and methodologies St...</td>\n",
       "      <td>Establish and enforce quality control standard...</td>\n",
       "    </tr>\n",
       "    <tr>\n",
       "      <th>3</th>\n",
       "      <td>Network Engineer</td>\n",
       "      <td>Wireless Network Engineers design, implement, ...</td>\n",
       "      <td>Wireless network design and architecture Wi-Fi...</td>\n",
       "      <td>Design, configure, and optimize wireless netwo...</td>\n",
       "    </tr>\n",
       "    <tr>\n",
       "      <th>4</th>\n",
       "      <td>Event Manager</td>\n",
       "      <td>A Conference Manager coordinates and manages c...</td>\n",
       "      <td>Event planning Conference logistics Budget man...</td>\n",
       "      <td>Specialize in conference and convention planni...</td>\n",
       "    </tr>\n",
       "    <tr>\n",
       "      <th>...</th>\n",
       "      <td>...</td>\n",
       "      <td>...</td>\n",
       "      <td>...</td>\n",
       "      <td>...</td>\n",
       "    </tr>\n",
       "    <tr>\n",
       "      <th>134</th>\n",
       "      <td>Account Executive</td>\n",
       "      <td>A Key Account Executive manages strategic acco...</td>\n",
       "      <td>Key account management Sales strategy developm...</td>\n",
       "      <td>Focus on strategic accounts, serving as the pr...</td>\n",
       "    </tr>\n",
       "    <tr>\n",
       "      <th>135</th>\n",
       "      <td>Speech Therapist</td>\n",
       "      <td>Adult Speech Therapists work with adults to ad...</td>\n",
       "      <td>Adult speech therapy Speech-language assessmen...</td>\n",
       "      <td>Focus on speech and language therapy for adult...</td>\n",
       "    </tr>\n",
       "    <tr>\n",
       "      <th>136</th>\n",
       "      <td>HR Coordinator</td>\n",
       "      <td>Benefits Coordinators administer employee bene...</td>\n",
       "      <td>Employee benefits administration Benefits comp...</td>\n",
       "      <td>Administer employee benefits programs, respond...</td>\n",
       "    </tr>\n",
       "    <tr>\n",
       "      <th>137</th>\n",
       "      <td>Architectural Designer</td>\n",
       "      <td>Interior Designers plan and design interior sp...</td>\n",
       "      <td>Interior design Space planning Color theory Ma...</td>\n",
       "      <td>Focus on interior spaces, selecting finishes, ...</td>\n",
       "    </tr>\n",
       "    <tr>\n",
       "      <th>138</th>\n",
       "      <td>Financial Analyst</td>\n",
       "      <td>Investment Analysts analyze financial data and...</td>\n",
       "      <td>Financial analysis Investment evaluation Portf...</td>\n",
       "      <td>Analyze financial data, research investment op...</td>\n",
       "    </tr>\n",
       "  </tbody>\n",
       "</table>\n",
       "<p>139 rows × 4 columns</p>\n",
       "</div>"
      ],
      "text/plain": [
       "                        Job Title  \\\n",
       "0    Digital Marketing Specialist   \n",
       "1                   Web Developer   \n",
       "2              Operations Manager   \n",
       "3                Network Engineer   \n",
       "4                   Event Manager   \n",
       "..                            ...   \n",
       "134             Account Executive   \n",
       "135              Speech Therapist   \n",
       "136                HR Coordinator   \n",
       "137        Architectural Designer   \n",
       "138             Financial Analyst   \n",
       "\n",
       "                                       Job Description  \\\n",
       "0    Social Media Managers oversee an organizations...   \n",
       "1    Frontend Web Developers design and implement u...   \n",
       "2    Quality Control Managers establish and enforce...   \n",
       "3    Wireless Network Engineers design, implement, ...   \n",
       "4    A Conference Manager coordinates and manages c...   \n",
       "..                                                 ...   \n",
       "134  A Key Account Executive manages strategic acco...   \n",
       "135  Adult Speech Therapists work with adults to ad...   \n",
       "136  Benefits Coordinators administer employee bene...   \n",
       "137  Interior Designers plan and design interior sp...   \n",
       "138  Investment Analysts analyze financial data and...   \n",
       "\n",
       "                                                skills  \\\n",
       "0    Social media platforms (e.g., Facebook, Twitte...   \n",
       "1    HTML, CSS, JavaScript Frontend frameworks (e.g...   \n",
       "2    Quality control processes and methodologies St...   \n",
       "3    Wireless network design and architecture Wi-Fi...   \n",
       "4    Event planning Conference logistics Budget man...   \n",
       "..                                                 ...   \n",
       "134  Key account management Sales strategy developm...   \n",
       "135  Adult speech therapy Speech-language assessmen...   \n",
       "136  Employee benefits administration Benefits comp...   \n",
       "137  Interior design Space planning Color theory Ma...   \n",
       "138  Financial analysis Investment evaluation Portf...   \n",
       "\n",
       "                                      Responsibilities  \n",
       "0    Manage and grow social media accounts, create ...  \n",
       "1    Design and code user interfaces for websites, ...  \n",
       "2    Establish and enforce quality control standard...  \n",
       "3    Design, configure, and optimize wireless netwo...  \n",
       "4    Specialize in conference and convention planni...  \n",
       "..                                                 ...  \n",
       "134  Focus on strategic accounts, serving as the pr...  \n",
       "135  Focus on speech and language therapy for adult...  \n",
       "136  Administer employee benefits programs, respond...  \n",
       "137  Focus on interior spaces, selecting finishes, ...  \n",
       "138  Analyze financial data, research investment op...  \n",
       "\n",
       "[139 rows x 4 columns]"
      ]
     },
     "execution_count": 3,
     "metadata": {},
     "output_type": "execute_result"
    }
   ],
   "source": [
    "data=pd.read_csv('JOB DATA.csv')\n",
    "data"
   ]
  },
  {
   "cell_type": "code",
   "execution_count": 4,
   "id": "d76131c3",
   "metadata": {},
   "outputs": [],
   "source": [
    "class JobDataset(tf.keras.utils.Sequence):\n",
    "    def __init__(self, job_titles, job_skills, tokenizer, max_length, batch_size):\n",
    "        self.job_titles = job_titles\n",
    "        self.job_skills = job_skills\n",
    "        self.tokenizer = tokenizer\n",
    "        self.max_length = max_length\n",
    "        self.batch_size = batch_size\n",
    "\n",
    "    def __len__(self):\n",
    "        return len(self.job_titles) // self.batch_size\n",
    "\n",
    "    def __getitem__(self, idx):\n",
    "        batch_job_titles = self.job_titles[idx * self.batch_size: (idx + 1) * self.batch_size]\n",
    "        batch_job_skills = self.job_skills[idx * self.batch_size: (idx + 1) * self.batch_size]\n",
    "\n",
    "        batch_input_texts = [f\"job title: {title}\" for title in batch_job_titles]\n",
    "        batch_target_texts = batch_job_skills\n",
    "\n",
    "        batch_input_encodings = self.tokenizer(batch_input_texts, padding=True, truncation=True, return_tensors=\"tf\", max_length=self.max_length)\n",
    "        batch_target_encodings = self.tokenizer(batch_target_texts, padding=True, truncation=True, return_tensors=\"tf\", max_length=self.max_length)\n",
    "\n",
    "        return {\n",
    "            \"input_ids\": batch_input_encodings[\"input_ids\"],\n",
    "            \"attention_mask\": batch_input_encodings[\"attention_mask\"],\n",
    "            \"labels\": batch_target_encodings[\"input_ids\"]\n",
    "        }"
   ]
  },
  {
   "cell_type": "code",
   "execution_count": 5,
   "id": "966086d9",
   "metadata": {},
   "outputs": [],
   "source": [
    "job_titles = data['Job Title'].tolist()  \n",
    "job_descriptions = data['Job Description'].tolist()\n",
    "job_skills = data['skills'].tolist()  \n"
   ]
  },
  {
   "cell_type": "code",
   "execution_count": 6,
   "id": "016d2e1d",
   "metadata": {},
   "outputs": [
    {
     "name": "stderr",
     "output_type": "stream",
     "text": [
      "You are using the default legacy behaviour of the <class 'transformers.models.t5.tokenization_t5.T5Tokenizer'>. This is expected, and simply means that the `legacy` (previous) behavior will be used so nothing changes for you. If you want to use the new behaviour, set `legacy=False`. This should only be set if you understand what it means, and thoroughly read the reason why this was added as explained in https://github.com/huggingface/transformers/pull/24565\n",
      "Special tokens have been added in the vocabulary, make sure the associated word embeddings are fine-tuned or trained.\n"
     ]
    }
   ],
   "source": [
    "max_length = 128\n",
    "batch_size = 8\n",
    "tokenizer = T5Tokenizer.from_pretrained(\"t5-small\")\n",
    "tokenizer.pad_token = tokenizer.eos_token\n",
    "train_dataset = JobDataset(job_titles, job_skills, tokenizer, max_length, batch_size)"
   ]
  },
  {
   "cell_type": "code",
   "execution_count": 7,
   "id": "e2f177d7",
   "metadata": {},
   "outputs": [
    {
     "name": "stdout",
     "output_type": "stream",
     "text": [
      "WARNING:tensorflow:From C:\\Users\\HP\\anaconda3\\lib\\site-packages\\keras\\src\\backend.py:873: The name tf.get_default_graph is deprecated. Please use tf.compat.v1.get_default_graph instead.\n",
      "\n"
     ]
    },
    {
     "name": "stderr",
     "output_type": "stream",
     "text": [
      "All PyTorch model weights were used when initializing TFT5ForConditionalGeneration.\n",
      "\n",
      "All the weights of TFT5ForConditionalGeneration were initialized from the PyTorch model.\n",
      "If your task is similar to the task the model of the checkpoint was trained on, you can already use TFT5ForConditionalGeneration for predictions without further training.\n"
     ]
    }
   ],
   "source": [
    "model = TFT5ForConditionalGeneration.from_pretrained(\"t5-small\")\n",
    "\n",
    "loss_object = SparseCategoricalCrossentropy(from_logits=True)\n",
    "optimizer = Adam(learning_rate=1e-4)\n"
   ]
  },
  {
   "cell_type": "code",
   "execution_count": 8,
   "id": "934b144f",
   "metadata": {},
   "outputs": [],
   "source": [
    "@tf.function\n",
    "def train_step(batch):\n",
    "    with tf.GradientTape() as tape:\n",
    "        outputs = model(input_ids=batch[\"input_ids\"], attention_mask=batch[\"attention_mask\"], labels=batch[\"labels\"], training=True)\n",
    "        loss = loss_object(tf.reshape(batch[\"labels\"], (-1,)), tf.reshape(outputs.logits, (-1, outputs.logits.shape[-1])))\n",
    "\n",
    "    gradients = tape.gradient(loss, model.trainable_variables)\n",
    "    optimizer.apply_gradients(zip(gradients, model.trainable_variables))\n",
    "\n",
    "    return loss\n"
   ]
  },
  {
   "cell_type": "code",
   "execution_count": 9,
   "id": "50aceafe",
   "metadata": {},
   "outputs": [
    {
     "name": "stdout",
     "output_type": "stream",
     "text": [
      "WARNING:tensorflow:5 out of the last 5 calls to <function train_step at 0x0000021C32400430> triggered tf.function retracing. Tracing is expensive and the excessive number of tracings could be due to (1) creating @tf.function repeatedly in a loop, (2) passing tensors with different shapes, (3) passing Python objects instead of tensors. For (1), please define your @tf.function outside of the loop. For (2), @tf.function has reduce_retracing=True option that can avoid unnecessary retracing. For (3), please refer to https://www.tensorflow.org/guide/function#controlling_retracing and https://www.tensorflow.org/api_docs/python/tf/function for  more details.\n",
      "WARNING:tensorflow:6 out of the last 6 calls to <function train_step at 0x0000021C32400430> triggered tf.function retracing. Tracing is expensive and the excessive number of tracings could be due to (1) creating @tf.function repeatedly in a loop, (2) passing tensors with different shapes, (3) passing Python objects instead of tensors. For (1), please define your @tf.function outside of the loop. For (2), @tf.function has reduce_retracing=True option that can avoid unnecessary retracing. For (3), please refer to https://www.tensorflow.org/guide/function#controlling_retracing and https://www.tensorflow.org/api_docs/python/tf/function for  more details.\n",
      "Epoch 1, Average Loss: 4.1200\n",
      "Epoch 2, Average Loss: 3.2417\n"
     ]
    }
   ],
   "source": [
    "num_epochs = 2\n",
    "\n",
    "for epoch in range(num_epochs):\n",
    "    total_loss = 0\n",
    "    for batch in train_dataset:\n",
    "        batch_loss = train_step(batch)\n",
    "        total_loss += batch_loss\n",
    "\n",
    "    avg_loss = total_loss / len(train_dataset)\n",
    "    print(f\"Epoch {epoch + 1}, Average Loss: {avg_loss:.4f}\")"
   ]
  },
  {
   "cell_type": "code",
   "execution_count": 17,
   "id": "78fb9f82",
   "metadata": {},
   "outputs": [
    {
     "name": "stdout",
     "output_type": "stream",
     "text": [
      "Enter a job title: Software Engineer\n",
      "\n",
      "\n",
      "Job Description for Software Engineer:\n",
      "A Backend Developer is tasked with building and maintaining the server-side logic and database infrastructure of web applications. They work on the core functionality, data storage, and server communication to ensure the application runs smoothly and efficiently.\n",
      "\n",
      "Skills needed for Software Engineer:\n",
      "Proficiency in one or more backend programming languages (e.g., Java, Python, Node.js, Ruby) API development Database management (SQL or NoSQL) Server management and deployment Security best practices Knowledge of web frameworks (e.g., Express, Django)\n"
     ]
    }
   ],
   "source": [
    "job_data_dict = dict(zip(job_titles, zip(job_descriptions, job_skills)))\n",
    "user_input = input(\"Enter a job title: \")\n",
    "print(\"\\n\")\n",
    "user_job_title = user_input.strip().title()\n",
    "if user_job_title in job_data_dict:\n",
    "    \n",
    "    job_description, job_skills_responsibilities = job_data_dict[user_job_title]\n",
    "    print(f\"Job Description for {user_job_title}:\\n{job_description}\\n\")\n",
    "    print(f\"Skills needed for {user_job_title}:\")\n",
    "    print(job_skills_responsibilities)\n",
    "else:\n",
    "    print(\"Job title not found in the dataset.\")"
   ]
  },
  {
   "cell_type": "code",
   "execution_count": null,
   "id": "95788d94",
   "metadata": {},
   "outputs": [],
   "source": []
  }
 ],
 "metadata": {
  "kernelspec": {
   "display_name": "Python 3 (ipykernel)",
   "language": "python",
   "name": "python3"
  },
  "language_info": {
   "codemirror_mode": {
    "name": "ipython",
    "version": 3
   },
   "file_extension": ".py",
   "mimetype": "text/x-python",
   "name": "python",
   "nbconvert_exporter": "python",
   "pygments_lexer": "ipython3",
   "version": "3.9.13"
  }
 },
 "nbformat": 4,
 "nbformat_minor": 5
}
